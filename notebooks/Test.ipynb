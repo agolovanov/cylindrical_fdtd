{
 "cells": [
  {
   "cell_type": "code",
   "execution_count": null,
   "metadata": {},
   "outputs": [],
   "source": [
    "import matplotlib.pyplot as plt\n",
    "import h5py\n",
    "from matplotlib import animation\n",
    "from IPython.display import HTML\n",
    "import numpy as np"
   ]
  },
  {
   "cell_type": "code",
   "execution_count": null,
   "metadata": {},
   "outputs": [],
   "source": [
    "%%capture\n",
    "\n",
    "fig, axes = plt.subplots(figsize=(6, 3), nrows=1, ncols=3, dpi=150)\n",
    "\n",
    "def plot(i):\n",
    "    for ax in axes:\n",
    "        ax.clear()\n",
    "        ax.set_xticks([])\n",
    "        ax.set_yticks([])\n",
    "        ax.set_xlabel('x')\n",
    "    with h5py.File(f'../bin/Fields{i}.h5') as f:\n",
    "        phi_size = f['Er'].shape[1] // 2\n",
    "        axes[1].pcolormesh(np.concatenate([np.flip(-f['Er'][:,phi_size,:], axis=0), f['Er'][:, 0, :]], axis=0), cmap='RdBu_r', vmin=-1, vmax=1)\n",
    "        axes[2].pcolormesh(np.concatenate([np.flip(-0.5 * (f['Ephi'][1:,phi_size,:]+f['Ephi'][1:,phi_size-1,:]), axis=0), 0.5 * (f['Ephi'][:, 0, :] + f['Ephi'][:, -1, :])], axis=0), cmap='RdBu_r', vmin=-1, vmax=1)\n",
    "        axes[0].pcolormesh(np.concatenate([np.flip(f['Ex'][1:,phi_size,:], axis=0), f['Ex'][:, 0, :]], axis=0), cmap='RdBu_r', vmin=-1, vmax=1)\n",
    "    axes[0].set_title('Ex')\n",
    "    axes[1].set_title('Ey')\n",
    "    axes[2].set_title('Ez')\n",
    "    axes[0].set_ylabel('y')\n",
    "    plt.tight_layout(pad=0.2)\n",
    "    \n",
    "anim = animation.FuncAnimation(fig, plot, frames=21, interval=200).to_html5_video()"
   ]
  },
  {
   "cell_type": "code",
   "execution_count": null,
   "metadata": {},
   "outputs": [],
   "source": [
    "HTML(anim)"
   ]
  },
  {
   "cell_type": "code",
   "execution_count": null,
   "metadata": {},
   "outputs": [],
   "source": [
    "%%capture\n",
    "\n",
    "fig, axes = plt.subplots(figsize=(6, 3), nrows=1, ncols=3, dpi=150)\n",
    "\n",
    "def plot(i):\n",
    "    for ax in axes:\n",
    "        ax.clear()\n",
    "        ax.set_xticks([])\n",
    "        ax.set_yticks([])\n",
    "        ax.set_xlabel('x')\n",
    "    with h5py.File(f'../bin/Fields{i}.h5') as f:\n",
    "        phi_size = f['Br'].shape[1] // 2\n",
    "        axes[1].pcolormesh(np.concatenate([np.flip(-0.5 * (f['Br'][1:,phi_size,:] + f['Br'][1:,phi_size-1,:]), axis=0), 0.5 * (f['Br'][:, 0, :] + f['Br'][:, -1, :])], axis=0), cmap='RdBu_r', vmin=-1, vmax=1)\n",
    "        axes[2].pcolormesh(np.concatenate([np.flip(-f['Bphi'][:,phi_size,:], axis=0), f['Bphi'][:, 0, :]], axis=0), cmap='RdBu_r', vmin=-1, vmax=1)\n",
    "        axes[0].pcolormesh(np.concatenate([np.flip(0.5 * (f['Bx'][:,phi_size,:] + f['Bx'][:,phi_size-1,:]), axis=0), 0.5 * (f['Bx'][:, 0, :] + f['Bx'][:, -1, :])], axis=0), cmap='RdBu_r', vmin=-1, vmax=1)\n",
    "    axes[0].set_title('Bx')\n",
    "    axes[1].set_title('By')\n",
    "    axes[2].set_title('Bz')\n",
    "    axes[0].set_ylabel('y')\n",
    "    plt.tight_layout(pad=0.2)\n",
    "    \n",
    "anim = animation.FuncAnimation(fig, plot, frames=21, interval=200).to_html5_video()"
   ]
  },
  {
   "cell_type": "code",
   "execution_count": null,
   "metadata": {},
   "outputs": [],
   "source": [
    "HTML(anim)"
   ]
  },
  {
   "cell_type": "code",
   "execution_count": null,
   "metadata": {},
   "outputs": [],
   "source": [
    "f1 = h5py.File('../bin/Fields0.h5')\n",
    "f2 = h5py.File('../bin/Fields1.h5')"
   ]
  },
  {
   "cell_type": "code",
   "execution_count": null,
   "metadata": {},
   "outputs": [],
   "source": [
    "phi_size = f['Er'].shape[1] // 2"
   ]
  },
  {
   "cell_type": "code",
   "execution_count": null,
   "metadata": {},
   "outputs": [],
   "source": [
    "phi_size"
   ]
  },
  {
   "cell_type": "code",
   "execution_count": null,
   "metadata": {},
   "outputs": [],
   "source": [
    "plt.imshow(np.concatenate([np.flip(-f['Er'][:,phi_size,:], axis=0), f['Er'][:, 0, :]], axis=0))"
   ]
  },
  {
   "cell_type": "code",
   "execution_count": null,
   "metadata": {},
   "outputs": [],
   "source": [
    "plt.plot(f1['Er'][0,0,:])\n",
    "plt.plot(f2['Er'][0,0,:])"
   ]
  },
  {
   "cell_type": "code",
   "execution_count": null,
   "metadata": {},
   "outputs": [],
   "source": [
    "plt.plot(f1['Er'][0,0,:])\n",
    "plt.plot(f1['Er'][1,0,:])"
   ]
  },
  {
   "cell_type": "code",
   "execution_count": null,
   "metadata": {},
   "outputs": [],
   "source": [
    "plt.plot(f2['Ephi'][0,0,:])\n",
    "plt.plot(f2['Ephi'][1,0,:])"
   ]
  },
  {
   "cell_type": "code",
   "execution_count": null,
   "metadata": {},
   "outputs": [],
   "source": [
    "plt.pcolormesh(f['Er'][:, 0, :])"
   ]
  },
  {
   "cell_type": "code",
   "execution_count": null,
   "metadata": {},
   "outputs": [],
   "source": []
  },
  {
   "cell_type": "code",
   "execution_count": null,
   "metadata": {},
   "outputs": [],
   "source": []
  }
 ],
 "metadata": {
  "kernelspec": {
   "display_name": "Python 3",
   "language": "python",
   "name": "python3"
  },
  "language_info": {
   "codemirror_mode": {
    "name": "ipython",
    "version": 3
   },
   "file_extension": ".py",
   "mimetype": "text/x-python",
   "name": "python",
   "nbconvert_exporter": "python",
   "pygments_lexer": "ipython3",
   "version": "3.7.5"
  }
 },
 "nbformat": 4,
 "nbformat_minor": 4
}
